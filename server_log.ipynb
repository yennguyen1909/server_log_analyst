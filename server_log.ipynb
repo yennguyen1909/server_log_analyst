{
 "cells": [
  {
   "cell_type": "code",
   "execution_count": 35,
   "metadata": {},
   "outputs": [],
   "source": [
    "import pandas as pd\n",
    "import numpy as np\n",
    "import os\n",
    "for dirname, _, filenames in os.walk('/kaggle/input'):\n",
    "    for filename in filenames:\n",
    "        print(os.path.join(dirname, filename))\n",
    "import re\n",
    "from tqdm import tqdm"
   ]
  },
  {
   "cell_type": "markdown",
   "metadata": {},
   "source": [
    "Convert file log to dataframe"
   ]
  },
  {
   "cell_type": "code",
   "execution_count": 36,
   "metadata": {},
   "outputs": [],
   "source": [
    "file_log= r'D:\\code-python\\project_practice\\server_log\\0.log.20241201-211909\\0.log.20241201-211909'"
   ]
  },
  {
   "cell_type": "code",
   "execution_count": 37,
   "metadata": {},
   "outputs": [],
   "source": [
    "log_pattern= r'^\\S+ (?P<std>\\S+) \\S+ (?P<remote_address>\\d+\\.\\d+\\.\\d+\\.\\d+) - (?P<remote_user>[^ ]*) \\[(?P<datetime>[^\\]]+)\\] \"(?P<method>\\w+) (?P<path>[^\\s]+) (?P<header>[^\\\"]+)\" (?P<status>\\d+) (?P<bytes_sent>\\d+) \"(?P<referer>[^\\\"]*)\" \"(?P<user_agent>[^\\\"]*)\"'"
   ]
  },
  {
   "cell_type": "code",
   "execution_count": 38,
   "metadata": {},
   "outputs": [],
   "source": [
    "with open(file_log, 'r') as file:\n",
    "    log_lines = file.readlines()"
   ]
  },
  {
   "cell_type": "code",
   "execution_count": 39,
   "metadata": {},
   "outputs": [],
   "source": [
    "parsed_logs = [re.match(log_pattern, line).groupdict() for line in log_lines if re.match(log_pattern, line)]"
   ]
  },
  {
   "cell_type": "code",
   "execution_count": 40,
   "metadata": {},
   "outputs": [],
   "source": [
    "df = pd.DataFrame(parsed_logs)"
   ]
  },
  {
   "cell_type": "code",
   "execution_count": 41,
   "metadata": {},
   "outputs": [
    {
     "data": {
      "text/html": [
       "<div>\n",
       "<style scoped>\n",
       "    .dataframe tbody tr th:only-of-type {\n",
       "        vertical-align: middle;\n",
       "    }\n",
       "\n",
       "    .dataframe tbody tr th {\n",
       "        vertical-align: top;\n",
       "    }\n",
       "\n",
       "    .dataframe thead th {\n",
       "        text-align: right;\n",
       "    }\n",
       "</style>\n",
       "<table border=\"1\" class=\"dataframe\">\n",
       "  <thead>\n",
       "    <tr style=\"text-align: right;\">\n",
       "      <th></th>\n",
       "      <th>std</th>\n",
       "      <th>remote_address</th>\n",
       "      <th>remote_user</th>\n",
       "      <th>datetime</th>\n",
       "      <th>method</th>\n",
       "      <th>path</th>\n",
       "      <th>header</th>\n",
       "      <th>status</th>\n",
       "      <th>bytes_sent</th>\n",
       "      <th>referer</th>\n",
       "      <th>user_agent</th>\n",
       "    </tr>\n",
       "  </thead>\n",
       "  <tbody>\n",
       "    <tr>\n",
       "      <th>0</th>\n",
       "      <td>stdout</td>\n",
       "      <td>127.0.0.1</td>\n",
       "      <td>-</td>\n",
       "      <td>30/Nov/2024:06:51:41 +0000</td>\n",
       "      <td>GET</td>\n",
       "      <td>/status</td>\n",
       "      <td>HTTP/1.1</td>\n",
       "      <td>200</td>\n",
       "      <td>1164</td>\n",
       "      <td>-</td>\n",
       "      <td>kong-ingress-controller/3.3.1</td>\n",
       "    </tr>\n",
       "    <tr>\n",
       "      <th>1</th>\n",
       "      <td>stderr</td>\n",
       "      <td>10.244.3.1</td>\n",
       "      <td>-</td>\n",
       "      <td>30/Nov/2024:06:51:42 +0000</td>\n",
       "      <td>GET</td>\n",
       "      <td>/status</td>\n",
       "      <td>HTTP/1.1</td>\n",
       "      <td>200</td>\n",
       "      <td>1165</td>\n",
       "      <td>-</td>\n",
       "      <td>kube-probe/1.27</td>\n",
       "    </tr>\n",
       "    <tr>\n",
       "      <th>2</th>\n",
       "      <td>stderr</td>\n",
       "      <td>10.244.3.1</td>\n",
       "      <td>-</td>\n",
       "      <td>30/Nov/2024:06:51:42 +0000</td>\n",
       "      <td>GET</td>\n",
       "      <td>/status/ready</td>\n",
       "      <td>HTTP/1.1</td>\n",
       "      <td>200</td>\n",
       "      <td>19</td>\n",
       "      <td>-</td>\n",
       "      <td>kube-probe/1.27</td>\n",
       "    </tr>\n",
       "    <tr>\n",
       "      <th>3</th>\n",
       "      <td>stdout</td>\n",
       "      <td>127.0.0.1</td>\n",
       "      <td>-</td>\n",
       "      <td>30/Nov/2024:06:51:44 +0000</td>\n",
       "      <td>GET</td>\n",
       "      <td>/status</td>\n",
       "      <td>HTTP/1.1</td>\n",
       "      <td>200</td>\n",
       "      <td>1164</td>\n",
       "      <td>-</td>\n",
       "      <td>kong-ingress-controller/3.3.1</td>\n",
       "    </tr>\n",
       "    <tr>\n",
       "      <th>4</th>\n",
       "      <td>stdout</td>\n",
       "      <td>127.0.0.1</td>\n",
       "      <td>-</td>\n",
       "      <td>30/Nov/2024:06:51:47 +0000</td>\n",
       "      <td>GET</td>\n",
       "      <td>/status</td>\n",
       "      <td>HTTP/1.1</td>\n",
       "      <td>200</td>\n",
       "      <td>1164</td>\n",
       "      <td>-</td>\n",
       "      <td>kong-ingress-controller/3.3.1</td>\n",
       "    </tr>\n",
       "  </tbody>\n",
       "</table>\n",
       "</div>"
      ],
      "text/plain": [
       "      std remote_address remote_user                    datetime method  \\\n",
       "0  stdout      127.0.0.1           -  30/Nov/2024:06:51:41 +0000    GET   \n",
       "1  stderr     10.244.3.1           -  30/Nov/2024:06:51:42 +0000    GET   \n",
       "2  stderr     10.244.3.1           -  30/Nov/2024:06:51:42 +0000    GET   \n",
       "3  stdout      127.0.0.1           -  30/Nov/2024:06:51:44 +0000    GET   \n",
       "4  stdout      127.0.0.1           -  30/Nov/2024:06:51:47 +0000    GET   \n",
       "\n",
       "            path    header status bytes_sent referer  \\\n",
       "0        /status  HTTP/1.1    200       1164       -   \n",
       "1        /status  HTTP/1.1    200       1165       -   \n",
       "2  /status/ready  HTTP/1.1    200         19       -   \n",
       "3        /status  HTTP/1.1    200       1164       -   \n",
       "4        /status  HTTP/1.1    200       1164       -   \n",
       "\n",
       "                      user_agent  \n",
       "0  kong-ingress-controller/3.3.1  \n",
       "1                kube-probe/1.27  \n",
       "2                kube-probe/1.27  \n",
       "3  kong-ingress-controller/3.3.1  \n",
       "4  kong-ingress-controller/3.3.1  "
      ]
     },
     "execution_count": 41,
     "metadata": {},
     "output_type": "execute_result"
    }
   ],
   "source": [
    "df.head()"
   ]
  },
  {
   "cell_type": "code",
   "execution_count": 42,
   "metadata": {},
   "outputs": [],
   "source": [
    "#df.to_csv('D:/code-python/project_practice/server_log/dataframe/server_log_convert_dataframe.csv')"
   ]
  },
  {
   "cell_type": "code",
   "execution_count": 43,
   "metadata": {},
   "outputs": [
    {
     "name": "stdout",
     "output_type": "stream",
     "text": [
      "<class 'pandas.core.frame.DataFrame'>\n",
      "RangeIndex: 66411 entries, 0 to 66410\n",
      "Data columns (total 11 columns):\n",
      " #   Column          Non-Null Count  Dtype \n",
      "---  ------          --------------  ----- \n",
      " 0   std             66411 non-null  object\n",
      " 1   remote_address  66411 non-null  object\n",
      " 2   remote_user     66411 non-null  object\n",
      " 3   datetime        66411 non-null  object\n",
      " 4   method          66411 non-null  object\n",
      " 5   path            66411 non-null  object\n",
      " 6   header          66411 non-null  object\n",
      " 7   status          66411 non-null  object\n",
      " 8   bytes_sent      66411 non-null  object\n",
      " 9   referer         66411 non-null  object\n",
      " 10  user_agent      66411 non-null  object\n",
      "dtypes: object(11)\n",
      "memory usage: 5.6+ MB\n"
     ]
    }
   ],
   "source": [
    "df.info()"
   ]
  },
  {
   "cell_type": "markdown",
   "metadata": {},
   "source": [
    "Data Preprocessing"
   ]
  },
  {
   "cell_type": "code",
   "execution_count": 44,
   "metadata": {},
   "outputs": [],
   "source": [
    "df['std'] = df['std'].replace({'stdout': 0, 'stderr': 1})"
   ]
  },
  {
   "cell_type": "code",
   "execution_count": 45,
   "metadata": {},
   "outputs": [],
   "source": [
    "from datetime import datetime\n",
    "df['datetime'] = df['datetime'].apply(lambda x: datetime.strptime(x, \"%d/%b/%Y:%H:%M:%S %z\"))"
   ]
  },
  {
   "cell_type": "code",
   "execution_count": 46,
   "metadata": {},
   "outputs": [],
   "source": [
    "df = df.drop(['remote_user'], axis = 1)"
   ]
  },
  {
   "cell_type": "code",
   "execution_count": 47,
   "metadata": {},
   "outputs": [],
   "source": [
    "df['method'] = df['method'].replace({'GET': 0, 'POST': 1})"
   ]
  },
  {
   "cell_type": "code",
   "execution_count": 48,
   "metadata": {},
   "outputs": [],
   "source": [
    "df = df.drop(['header'], axis = 1)"
   ]
  },
  {
   "cell_type": "code",
   "execution_count": 49,
   "metadata": {},
   "outputs": [],
   "source": [
    "df ['bytes_sent'] = pd.to_numeric(df['bytes_sent'])"
   ]
  },
  {
   "cell_type": "code",
   "execution_count": 50,
   "metadata": {},
   "outputs": [
    {
     "name": "stdout",
     "output_type": "stream",
     "text": [
      "<class 'pandas.core.frame.DataFrame'>\n",
      "RangeIndex: 66411 entries, 0 to 66410\n",
      "Data columns (total 9 columns):\n",
      " #   Column          Non-Null Count  Dtype              \n",
      "---  ------          --------------  -----              \n",
      " 0   std             66411 non-null  int64              \n",
      " 1   remote_address  66411 non-null  object             \n",
      " 2   datetime        66411 non-null  datetime64[ns, UTC]\n",
      " 3   method          66411 non-null  int64              \n",
      " 4   path            66411 non-null  object             \n",
      " 5   status          66411 non-null  int64              \n",
      " 6   bytes_sent      66411 non-null  int64              \n",
      " 7   referer         66411 non-null  object             \n",
      " 8   user_agent      66411 non-null  object             \n",
      "dtypes: datetime64[ns, UTC](1), int64(4), object(4)\n",
      "memory usage: 4.6+ MB\n"
     ]
    }
   ],
   "source": [
    "df['status'] = pd.to_numeric(df['status'])\n",
    "df.info()"
   ]
  },
  {
   "cell_type": "code",
   "execution_count": 51,
   "metadata": {},
   "outputs": [
    {
     "data": {
      "text/plain": [
       "std               0\n",
       "remote_address    0\n",
       "datetime          0\n",
       "method            0\n",
       "path              0\n",
       "status            0\n",
       "bytes_sent        0\n",
       "referer           0\n",
       "user_agent        0\n",
       "dtype: int64"
      ]
     },
     "execution_count": 51,
     "metadata": {},
     "output_type": "execute_result"
    }
   ],
   "source": [
    "df.isnull().sum()"
   ]
  },
  {
   "cell_type": "code",
   "execution_count": 52,
   "metadata": {},
   "outputs": [],
   "source": [
    "df['day'] = df['datetime'].dt.day\n",
    "df['hour'] = df['datetime'].dt.hour\n",
    "df['month'] = df['datetime'].dt.month"
   ]
  },
  {
   "cell_type": "markdown",
   "metadata": {},
   "source": [
    "OneHotEncoder"
   ]
  },
  {
   "cell_type": "code",
   "execution_count": 53,
   "metadata": {},
   "outputs": [],
   "source": [
    "from sklearn.preprocessing import OneHotEncoder"
   ]
  },
  {
   "cell_type": "code",
   "execution_count": 54,
   "metadata": {},
   "outputs": [],
   "source": [
    "columns_encoder = ['remote_address', 'path', 'user_agent']"
   ]
  },
  {
   "cell_type": "code",
   "execution_count": 55,
   "metadata": {},
   "outputs": [
    {
     "name": "stderr",
     "output_type": "stream",
     "text": [
      "c:\\Users\\user\\miniconda3\\envs\\test-env\\lib\\site-packages\\sklearn\\preprocessing\\_encoders.py:975: FutureWarning: `sparse` was renamed to `sparse_output` in version 1.2 and will be removed in 1.4. `sparse_output` is ignored unless you leave `sparse` to its default value.\n",
      "  warnings.warn(\n"
     ]
    }
   ],
   "source": [
    "encoder = OneHotEncoder(sparse = False)\n",
    "encoder_array = encoder.fit_transform(df[columns_encoder])"
   ]
  },
  {
   "cell_type": "code",
   "execution_count": 56,
   "metadata": {},
   "outputs": [],
   "source": [
    "encoder_columns = encoder.get_feature_names_out(columns_encoder)"
   ]
  },
  {
   "cell_type": "code",
   "execution_count": 57,
   "metadata": {},
   "outputs": [],
   "source": [
    "encoder_df = pd.DataFrame(encoder_array,columns = encoder_columns)"
   ]
  },
  {
   "cell_type": "code",
   "execution_count": 58,
   "metadata": {},
   "outputs": [
    {
     "data": {
      "text/html": [
       "<div>\n",
       "<style scoped>\n",
       "    .dataframe tbody tr th:only-of-type {\n",
       "        vertical-align: middle;\n",
       "    }\n",
       "\n",
       "    .dataframe tbody tr th {\n",
       "        vertical-align: top;\n",
       "    }\n",
       "\n",
       "    .dataframe thead th {\n",
       "        text-align: right;\n",
       "    }\n",
       "</style>\n",
       "<table border=\"1\" class=\"dataframe\">\n",
       "  <thead>\n",
       "    <tr style=\"text-align: right;\">\n",
       "      <th></th>\n",
       "      <th>remote_address_10.244.2.197</th>\n",
       "      <th>remote_address_10.244.3.1</th>\n",
       "      <th>remote_address_10.244.3.105</th>\n",
       "      <th>remote_address_10.244.5.196</th>\n",
       "      <th>remote_address_113.191.208.122</th>\n",
       "      <th>remote_address_113.23.54.246</th>\n",
       "      <th>remote_address_116.103.226.203</th>\n",
       "      <th>remote_address_116.96.47.3</th>\n",
       "      <th>remote_address_117.4.31.86</th>\n",
       "      <th>remote_address_117.4.33.186</th>\n",
       "      <th>...</th>\n",
       "      <th>user_agent_VTHome_Dev/6 CFNetwork/1498.700.2 Darwin/23.6.0</th>\n",
       "      <th>user_agent_VTHome_Dev/6 CFNetwork/1568.200.51 Darwin/24.1.0</th>\n",
       "      <th>user_agent_curl/7.81.0</th>\n",
       "      <th>user_agent_kong-ingress-controller/3.3.1</th>\n",
       "      <th>user_agent_kube-probe/1.27</th>\n",
       "      <th>user_agent_lua-resty-http/0.06 (Lua) ngx_lua/10020</th>\n",
       "      <th>user_agent_okhttp/4.12.0</th>\n",
       "      <th>user_agent_okhttp/4.9.2</th>\n",
       "      <th>user_agent_otelcol-contrib/0.89.0</th>\n",
       "      <th>user_agent_python-requests/2.32.2</th>\n",
       "    </tr>\n",
       "  </thead>\n",
       "  <tbody>\n",
       "    <tr>\n",
       "      <th>0</th>\n",
       "      <td>0.0</td>\n",
       "      <td>0.0</td>\n",
       "      <td>0.0</td>\n",
       "      <td>0.0</td>\n",
       "      <td>0.0</td>\n",
       "      <td>0.0</td>\n",
       "      <td>0.0</td>\n",
       "      <td>0.0</td>\n",
       "      <td>0.0</td>\n",
       "      <td>0.0</td>\n",
       "      <td>...</td>\n",
       "      <td>0.0</td>\n",
       "      <td>0.0</td>\n",
       "      <td>0.0</td>\n",
       "      <td>1.0</td>\n",
       "      <td>0.0</td>\n",
       "      <td>0.0</td>\n",
       "      <td>0.0</td>\n",
       "      <td>0.0</td>\n",
       "      <td>0.0</td>\n",
       "      <td>0.0</td>\n",
       "    </tr>\n",
       "    <tr>\n",
       "      <th>1</th>\n",
       "      <td>0.0</td>\n",
       "      <td>1.0</td>\n",
       "      <td>0.0</td>\n",
       "      <td>0.0</td>\n",
       "      <td>0.0</td>\n",
       "      <td>0.0</td>\n",
       "      <td>0.0</td>\n",
       "      <td>0.0</td>\n",
       "      <td>0.0</td>\n",
       "      <td>0.0</td>\n",
       "      <td>...</td>\n",
       "      <td>0.0</td>\n",
       "      <td>0.0</td>\n",
       "      <td>0.0</td>\n",
       "      <td>0.0</td>\n",
       "      <td>1.0</td>\n",
       "      <td>0.0</td>\n",
       "      <td>0.0</td>\n",
       "      <td>0.0</td>\n",
       "      <td>0.0</td>\n",
       "      <td>0.0</td>\n",
       "    </tr>\n",
       "    <tr>\n",
       "      <th>2</th>\n",
       "      <td>0.0</td>\n",
       "      <td>1.0</td>\n",
       "      <td>0.0</td>\n",
       "      <td>0.0</td>\n",
       "      <td>0.0</td>\n",
       "      <td>0.0</td>\n",
       "      <td>0.0</td>\n",
       "      <td>0.0</td>\n",
       "      <td>0.0</td>\n",
       "      <td>0.0</td>\n",
       "      <td>...</td>\n",
       "      <td>0.0</td>\n",
       "      <td>0.0</td>\n",
       "      <td>0.0</td>\n",
       "      <td>0.0</td>\n",
       "      <td>1.0</td>\n",
       "      <td>0.0</td>\n",
       "      <td>0.0</td>\n",
       "      <td>0.0</td>\n",
       "      <td>0.0</td>\n",
       "      <td>0.0</td>\n",
       "    </tr>\n",
       "    <tr>\n",
       "      <th>3</th>\n",
       "      <td>0.0</td>\n",
       "      <td>0.0</td>\n",
       "      <td>0.0</td>\n",
       "      <td>0.0</td>\n",
       "      <td>0.0</td>\n",
       "      <td>0.0</td>\n",
       "      <td>0.0</td>\n",
       "      <td>0.0</td>\n",
       "      <td>0.0</td>\n",
       "      <td>0.0</td>\n",
       "      <td>...</td>\n",
       "      <td>0.0</td>\n",
       "      <td>0.0</td>\n",
       "      <td>0.0</td>\n",
       "      <td>1.0</td>\n",
       "      <td>0.0</td>\n",
       "      <td>0.0</td>\n",
       "      <td>0.0</td>\n",
       "      <td>0.0</td>\n",
       "      <td>0.0</td>\n",
       "      <td>0.0</td>\n",
       "    </tr>\n",
       "    <tr>\n",
       "      <th>4</th>\n",
       "      <td>0.0</td>\n",
       "      <td>0.0</td>\n",
       "      <td>0.0</td>\n",
       "      <td>0.0</td>\n",
       "      <td>0.0</td>\n",
       "      <td>0.0</td>\n",
       "      <td>0.0</td>\n",
       "      <td>0.0</td>\n",
       "      <td>0.0</td>\n",
       "      <td>0.0</td>\n",
       "      <td>...</td>\n",
       "      <td>0.0</td>\n",
       "      <td>0.0</td>\n",
       "      <td>0.0</td>\n",
       "      <td>1.0</td>\n",
       "      <td>0.0</td>\n",
       "      <td>0.0</td>\n",
       "      <td>0.0</td>\n",
       "      <td>0.0</td>\n",
       "      <td>0.0</td>\n",
       "      <td>0.0</td>\n",
       "    </tr>\n",
       "  </tbody>\n",
       "</table>\n",
       "<p>5 rows × 151 columns</p>\n",
       "</div>"
      ],
      "text/plain": [
       "   remote_address_10.244.2.197  remote_address_10.244.3.1  \\\n",
       "0                          0.0                        0.0   \n",
       "1                          0.0                        1.0   \n",
       "2                          0.0                        1.0   \n",
       "3                          0.0                        0.0   \n",
       "4                          0.0                        0.0   \n",
       "\n",
       "   remote_address_10.244.3.105  remote_address_10.244.5.196  \\\n",
       "0                          0.0                          0.0   \n",
       "1                          0.0                          0.0   \n",
       "2                          0.0                          0.0   \n",
       "3                          0.0                          0.0   \n",
       "4                          0.0                          0.0   \n",
       "\n",
       "   remote_address_113.191.208.122  remote_address_113.23.54.246  \\\n",
       "0                             0.0                           0.0   \n",
       "1                             0.0                           0.0   \n",
       "2                             0.0                           0.0   \n",
       "3                             0.0                           0.0   \n",
       "4                             0.0                           0.0   \n",
       "\n",
       "   remote_address_116.103.226.203  remote_address_116.96.47.3  \\\n",
       "0                             0.0                         0.0   \n",
       "1                             0.0                         0.0   \n",
       "2                             0.0                         0.0   \n",
       "3                             0.0                         0.0   \n",
       "4                             0.0                         0.0   \n",
       "\n",
       "   remote_address_117.4.31.86  remote_address_117.4.33.186  ...  \\\n",
       "0                         0.0                          0.0  ...   \n",
       "1                         0.0                          0.0  ...   \n",
       "2                         0.0                          0.0  ...   \n",
       "3                         0.0                          0.0  ...   \n",
       "4                         0.0                          0.0  ...   \n",
       "\n",
       "   user_agent_VTHome_Dev/6 CFNetwork/1498.700.2 Darwin/23.6.0  \\\n",
       "0                                                0.0            \n",
       "1                                                0.0            \n",
       "2                                                0.0            \n",
       "3                                                0.0            \n",
       "4                                                0.0            \n",
       "\n",
       "   user_agent_VTHome_Dev/6 CFNetwork/1568.200.51 Darwin/24.1.0  \\\n",
       "0                                                0.0             \n",
       "1                                                0.0             \n",
       "2                                                0.0             \n",
       "3                                                0.0             \n",
       "4                                                0.0             \n",
       "\n",
       "   user_agent_curl/7.81.0  user_agent_kong-ingress-controller/3.3.1  \\\n",
       "0                     0.0                                       1.0   \n",
       "1                     0.0                                       0.0   \n",
       "2                     0.0                                       0.0   \n",
       "3                     0.0                                       1.0   \n",
       "4                     0.0                                       1.0   \n",
       "\n",
       "   user_agent_kube-probe/1.27  \\\n",
       "0                         0.0   \n",
       "1                         1.0   \n",
       "2                         1.0   \n",
       "3                         0.0   \n",
       "4                         0.0   \n",
       "\n",
       "   user_agent_lua-resty-http/0.06 (Lua) ngx_lua/10020  \\\n",
       "0                                                0.0    \n",
       "1                                                0.0    \n",
       "2                                                0.0    \n",
       "3                                                0.0    \n",
       "4                                                0.0    \n",
       "\n",
       "   user_agent_okhttp/4.12.0  user_agent_okhttp/4.9.2  \\\n",
       "0                       0.0                      0.0   \n",
       "1                       0.0                      0.0   \n",
       "2                       0.0                      0.0   \n",
       "3                       0.0                      0.0   \n",
       "4                       0.0                      0.0   \n",
       "\n",
       "   user_agent_otelcol-contrib/0.89.0  user_agent_python-requests/2.32.2  \n",
       "0                                0.0                                0.0  \n",
       "1                                0.0                                0.0  \n",
       "2                                0.0                                0.0  \n",
       "3                                0.0                                0.0  \n",
       "4                                0.0                                0.0  \n",
       "\n",
       "[5 rows x 151 columns]"
      ]
     },
     "execution_count": 58,
     "metadata": {},
     "output_type": "execute_result"
    }
   ],
   "source": [
    "encoder_df.head()"
   ]
  },
  {
   "cell_type": "markdown",
   "metadata": {},
   "source": [
    "Embedding PCA"
   ]
  },
  {
   "cell_type": "code",
   "execution_count": 59,
   "metadata": {},
   "outputs": [],
   "source": [
    "from sklearn.decomposition import PCA"
   ]
  },
  {
   "cell_type": "code",
   "execution_count": 60,
   "metadata": {},
   "outputs": [],
   "source": [
    "pca = PCA(n_components=2)\n",
    "embedding_data = pca.fit_transform(encoder_df)"
   ]
  },
  {
   "cell_type": "code",
   "execution_count": 61,
   "metadata": {},
   "outputs": [],
   "source": [
    "embeding_df = pd.DataFrame(embedding_data, columns = ['Embedding1', 'Embedding2'])"
   ]
  },
  {
   "cell_type": "code",
   "execution_count": 62,
   "metadata": {},
   "outputs": [],
   "source": [
    "df = pd.concat([df, embeding_df], axis =1)"
   ]
  },
  {
   "cell_type": "code",
   "execution_count": 70,
   "metadata": {},
   "outputs": [
    {
     "data": {
      "text/html": [
       "<div>\n",
       "<style scoped>\n",
       "    .dataframe tbody tr th:only-of-type {\n",
       "        vertical-align: middle;\n",
       "    }\n",
       "\n",
       "    .dataframe tbody tr th {\n",
       "        vertical-align: top;\n",
       "    }\n",
       "\n",
       "    .dataframe thead th {\n",
       "        text-align: right;\n",
       "    }\n",
       "</style>\n",
       "<table border=\"1\" class=\"dataframe\">\n",
       "  <thead>\n",
       "    <tr style=\"text-align: right;\">\n",
       "      <th></th>\n",
       "      <th>std</th>\n",
       "      <th>remote_address</th>\n",
       "      <th>datetime</th>\n",
       "      <th>method</th>\n",
       "      <th>path</th>\n",
       "      <th>status</th>\n",
       "      <th>bytes_sent</th>\n",
       "      <th>referer</th>\n",
       "      <th>user_agent</th>\n",
       "      <th>day</th>\n",
       "      <th>hour</th>\n",
       "      <th>month</th>\n",
       "      <th>Embedding1</th>\n",
       "      <th>Embedding2</th>\n",
       "    </tr>\n",
       "  </thead>\n",
       "  <tbody>\n",
       "    <tr>\n",
       "      <th>0</th>\n",
       "      <td>0</td>\n",
       "      <td>127.0.0.1</td>\n",
       "      <td>2024-11-30 06:51:41+00:00</td>\n",
       "      <td>0</td>\n",
       "      <td>/status</td>\n",
       "      <td>200</td>\n",
       "      <td>1164</td>\n",
       "      <td>-</td>\n",
       "      <td>kong-ingress-controller/3.3.1</td>\n",
       "      <td>30</td>\n",
       "      <td>6</td>\n",
       "      <td>11</td>\n",
       "      <td>-0.837709</td>\n",
       "      <td>-0.061207</td>\n",
       "    </tr>\n",
       "    <tr>\n",
       "      <th>1</th>\n",
       "      <td>1</td>\n",
       "      <td>10.244.3.1</td>\n",
       "      <td>2024-11-30 06:51:42+00:00</td>\n",
       "      <td>0</td>\n",
       "      <td>/status</td>\n",
       "      <td>200</td>\n",
       "      <td>1165</td>\n",
       "      <td>-</td>\n",
       "      <td>kube-probe/1.27</td>\n",
       "      <td>30</td>\n",
       "      <td>6</td>\n",
       "      <td>11</td>\n",
       "      <td>0.984510</td>\n",
       "      <td>-0.525195</td>\n",
       "    </tr>\n",
       "    <tr>\n",
       "      <th>2</th>\n",
       "      <td>1</td>\n",
       "      <td>10.244.3.1</td>\n",
       "      <td>2024-11-30 06:51:42+00:00</td>\n",
       "      <td>0</td>\n",
       "      <td>/status/ready</td>\n",
       "      <td>200</td>\n",
       "      <td>19</td>\n",
       "      <td>-</td>\n",
       "      <td>kube-probe/1.27</td>\n",
       "      <td>30</td>\n",
       "      <td>6</td>\n",
       "      <td>11</td>\n",
       "      <td>1.559433</td>\n",
       "      <td>-0.001141</td>\n",
       "    </tr>\n",
       "  </tbody>\n",
       "</table>\n",
       "</div>"
      ],
      "text/plain": [
       "   std remote_address                  datetime  method           path  \\\n",
       "0    0      127.0.0.1 2024-11-30 06:51:41+00:00       0        /status   \n",
       "1    1     10.244.3.1 2024-11-30 06:51:42+00:00       0        /status   \n",
       "2    1     10.244.3.1 2024-11-30 06:51:42+00:00       0  /status/ready   \n",
       "\n",
       "   status  bytes_sent referer                     user_agent  day  hour  \\\n",
       "0     200        1164       -  kong-ingress-controller/3.3.1   30     6   \n",
       "1     200        1165       -                kube-probe/1.27   30     6   \n",
       "2     200          19       -                kube-probe/1.27   30     6   \n",
       "\n",
       "   month  Embedding1  Embedding2  \n",
       "0     11   -0.837709   -0.061207  \n",
       "1     11    0.984510   -0.525195  \n",
       "2     11    1.559433   -0.001141  "
      ]
     },
     "execution_count": 70,
     "metadata": {},
     "output_type": "execute_result"
    }
   ],
   "source": [
    "df.head(3)"
   ]
  },
  {
   "cell_type": "code",
   "execution_count": 69,
   "metadata": {},
   "outputs": [
    {
     "name": "stdout",
     "output_type": "stream",
     "text": [
      "<class 'pandas.core.frame.DataFrame'>\n",
      "RangeIndex: 66411 entries, 0 to 66410\n",
      "Data columns (total 14 columns):\n",
      " #   Column          Non-Null Count  Dtype              \n",
      "---  ------          --------------  -----              \n",
      " 0   std             66411 non-null  int64              \n",
      " 1   remote_address  66411 non-null  object             \n",
      " 2   datetime        66411 non-null  datetime64[ns, UTC]\n",
      " 3   method          66411 non-null  int64              \n",
      " 4   path            66411 non-null  object             \n",
      " 5   status          66411 non-null  int64              \n",
      " 6   bytes_sent      66411 non-null  int64              \n",
      " 7   referer         66411 non-null  object             \n",
      " 8   user_agent      66411 non-null  object             \n",
      " 9   day             66411 non-null  int32              \n",
      " 10  hour            66411 non-null  int32              \n",
      " 11  month           66411 non-null  int32              \n",
      " 12  Embedding1      66411 non-null  float64            \n",
      " 13  Embedding2      66411 non-null  float64            \n",
      "dtypes: datetime64[ns, UTC](1), float64(2), int32(3), int64(4), object(4)\n",
      "memory usage: 6.3+ MB\n"
     ]
    }
   ],
   "source": [
    "df.info()"
   ]
  },
  {
   "cell_type": "markdown",
   "metadata": {},
   "source": [
    "Visualization"
   ]
  },
  {
   "cell_type": "code",
   "execution_count": 64,
   "metadata": {},
   "outputs": [],
   "source": [
    "import matplotlib.pyplot as plt\n",
    "import seaborn as sns"
   ]
  },
  {
   "cell_type": "code",
   "execution_count": 65,
   "metadata": {},
   "outputs": [
    {
     "data": {
      "image/png": "[encoded data removed]",
      "text/plain": [
       "<Figure size 640x480 with 2 Axes>"
      ]
     },
     "metadata": {},
     "output_type": "display_data"
    }
   ],
   "source": [
    "dataplot = sns.heatmap(df.corr(numeric_only=True), cmap=\"YlGnBu\", annot=True)\n",
    "plt.show()"
   ]
  },
  {
   "cell_type": "code",
   "execution_count": 66,
   "metadata": {},
   "outputs": [
    {
     "data": {
      "text/html": [
       "<div>\n",
       "<style scoped>\n",
       "    .dataframe tbody tr th:only-of-type {\n",
       "        vertical-align: middle;\n",
       "    }\n",
       "\n",
       "    .dataframe tbody tr th {\n",
       "        vertical-align: top;\n",
       "    }\n",
       "\n",
       "    .dataframe thead th {\n",
       "        text-align: right;\n",
       "    }\n",
       "</style>\n",
       "<table border=\"1\" class=\"dataframe\">\n",
       "  <thead>\n",
       "    <tr style=\"text-align: right;\">\n",
       "      <th></th>\n",
       "      <th>std</th>\n",
       "      <th>remote_address</th>\n",
       "      <th>datetime</th>\n",
       "      <th>method</th>\n",
       "      <th>path</th>\n",
       "      <th>status</th>\n",
       "      <th>bytes_sent</th>\n",
       "      <th>referer</th>\n",
       "      <th>user_agent</th>\n",
       "      <th>day</th>\n",
       "      <th>hour</th>\n",
       "      <th>month</th>\n",
       "      <th>Embedding1</th>\n",
       "      <th>Embedding2</th>\n",
       "    </tr>\n",
       "  </thead>\n",
       "  <tbody>\n",
       "    <tr>\n",
       "      <th>0</th>\n",
       "      <td>0</td>\n",
       "      <td>127.0.0.1</td>\n",
       "      <td>2024-11-30 06:51:41+00:00</td>\n",
       "      <td>0</td>\n",
       "      <td>/status</td>\n",
       "      <td>200</td>\n",
       "      <td>1164</td>\n",
       "      <td>-</td>\n",
       "      <td>kong-ingress-controller/3.3.1</td>\n",
       "      <td>30</td>\n",
       "      <td>6</td>\n",
       "      <td>11</td>\n",
       "      <td>-0.837709</td>\n",
       "      <td>-0.061207</td>\n",
       "    </tr>\n",
       "    <tr>\n",
       "      <th>1</th>\n",
       "      <td>1</td>\n",
       "      <td>10.244.3.1</td>\n",
       "      <td>2024-11-30 06:51:42+00:00</td>\n",
       "      <td>0</td>\n",
       "      <td>/status</td>\n",
       "      <td>200</td>\n",
       "      <td>1165</td>\n",
       "      <td>-</td>\n",
       "      <td>kube-probe/1.27</td>\n",
       "      <td>30</td>\n",
       "      <td>6</td>\n",
       "      <td>11</td>\n",
       "      <td>0.984510</td>\n",
       "      <td>-0.525195</td>\n",
       "    </tr>\n",
       "    <tr>\n",
       "      <th>2</th>\n",
       "      <td>1</td>\n",
       "      <td>10.244.3.1</td>\n",
       "      <td>2024-11-30 06:51:42+00:00</td>\n",
       "      <td>0</td>\n",
       "      <td>/status/ready</td>\n",
       "      <td>200</td>\n",
       "      <td>19</td>\n",
       "      <td>-</td>\n",
       "      <td>kube-probe/1.27</td>\n",
       "      <td>30</td>\n",
       "      <td>6</td>\n",
       "      <td>11</td>\n",
       "      <td>1.559433</td>\n",
       "      <td>-0.001141</td>\n",
       "    </tr>\n",
       "  </tbody>\n",
       "</table>\n",
       "</div>"
      ],
      "text/plain": [
       "   std remote_address                  datetime  method           path  \\\n",
       "0    0      127.0.0.1 2024-11-30 06:51:41+00:00       0        /status   \n",
       "1    1     10.244.3.1 2024-11-30 06:51:42+00:00       0        /status   \n",
       "2    1     10.244.3.1 2024-11-30 06:51:42+00:00       0  /status/ready   \n",
       "\n",
       "   status  bytes_sent referer                     user_agent  day  hour  \\\n",
       "0     200        1164       -  kong-ingress-controller/3.3.1   30     6   \n",
       "1     200        1165       -                kube-probe/1.27   30     6   \n",
       "2     200          19       -                kube-probe/1.27   30     6   \n",
       "\n",
       "   month  Embedding1  Embedding2  \n",
       "0     11   -0.837709   -0.061207  \n",
       "1     11    0.984510   -0.525195  \n",
       "2     11    1.559433   -0.001141  "
      ]
     },
     "execution_count": 66,
     "metadata": {},
     "output_type": "execute_result"
    }
   ],
   "source": [
    "df.head(3)"
   ]
  },
  {
   "cell_type": "code",
   "execution_count": null,
   "metadata": {},
   "outputs": [],
   "source": [
    "#df.to_csv('D:/code-python/project_practice/server_log/dataframe/server_log_test.csv')"
   ]
  }
 ],
 "metadata": {
  "kernelspec": {
   "display_name": "test-env",
   "language": "python",
   "name": "python3"
  },
  "language_info": {
   "codemirror_mode": {
    "name": "ipython",
    "version": 3
   },
   "file_extension": ".py",
   "mimetype": "text/x-python",
   "name": "python",
   "nbconvert_exporter": "python",
   "pygments_lexer": "ipython3",
   "version": "3.8.19"
  }
 },
 "nbformat": 4,
 "nbformat_minor": 2
}
