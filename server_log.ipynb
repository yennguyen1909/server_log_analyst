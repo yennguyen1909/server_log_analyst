{
 "cells": [
  {
   "cell_type": "code",
   "execution_count": 5,
   "metadata": {},
   "outputs": [],
   "source": [
    "import pandas as pd\n",
    "import numpy as np\n",
    "import os\n",
    "for dirname, _, filenames in os.walk('/kaggle/input'):\n",
    "    for filename in filenames:\n",
    "        print(os.path.join(dirname, filename))\n",
    "import re\n",
    "from tqdm import tqdm"
   ]
  },
  {
   "cell_type": "code",
   "execution_count": 6,
   "metadata": {},
   "outputs": [],
   "source": [
    "file_log= r'D:\\code-python\\project_practice\\server_log\\0.log.20241201-211909\\0.log.20241201-211909'"
   ]
  },
  {
   "cell_type": "code",
   "execution_count": 7,
   "metadata": {},
   "outputs": [],
   "source": [
    "log_pattern= r'^\\S+ (?P<std>\\S+) \\S+ (?P<remote_address>\\d+\\.\\d+\\.\\d+\\.\\d+) - (?P<remote_user>[^ ]*) \\[(?P<datetime>[^\\]]+)\\] \"(?P<method>\\w+) (?P<path>[^\\s]+) (?P<header>[^\\\"]+)\" (?P<status>\\d+) (?P<bytes_sent>\\d+) \"(?P<referer>[^\\\"]*)\" \"(?P<user_agent>[^\\\"]*)\"'"
   ]
  },
  {
   "cell_type": "code",
   "execution_count": 8,
   "metadata": {},
   "outputs": [],
   "source": [
    "with open(file_log, 'r') as file:\n",
    "    log_lines = file.readlines()"
   ]
  },
  {
   "cell_type": "code",
   "execution_count": 9,
   "metadata": {},
   "outputs": [],
   "source": [
    "parsed_logs = [re.match(log_pattern, line).groupdict() for line in log_lines if re.match(log_pattern, line)]"
   ]
  },
  {
   "cell_type": "code",
   "execution_count": 10,
   "metadata": {},
   "outputs": [],
   "source": [
    "df = pd.DataFrame(parsed_logs)"
   ]
  },
  {
   "cell_type": "code",
   "execution_count": 11,
   "metadata": {},
   "outputs": [
    {
     "data": {
      "text/html": [
       "<div>\n",
       "<style scoped>\n",
       "    .dataframe tbody tr th:only-of-type {\n",
       "        vertical-align: middle;\n",
       "    }\n",
       "\n",
       "    .dataframe tbody tr th {\n",
       "        vertical-align: top;\n",
       "    }\n",
       "\n",
       "    .dataframe thead th {\n",
       "        text-align: right;\n",
       "    }\n",
       "</style>\n",
       "<table border=\"1\" class=\"dataframe\">\n",
       "  <thead>\n",
       "    <tr style=\"text-align: right;\">\n",
       "      <th></th>\n",
       "      <th>std</th>\n",
       "      <th>remote_address</th>\n",
       "      <th>remote_user</th>\n",
       "      <th>datetime</th>\n",
       "      <th>method</th>\n",
       "      <th>path</th>\n",
       "      <th>header</th>\n",
       "      <th>status</th>\n",
       "      <th>bytes_sent</th>\n",
       "      <th>referer</th>\n",
       "      <th>user_agent</th>\n",
       "    </tr>\n",
       "  </thead>\n",
       "  <tbody>\n",
       "    <tr>\n",
       "      <th>0</th>\n",
       "      <td>stdout</td>\n",
       "      <td>127.0.0.1</td>\n",
       "      <td>-</td>\n",
       "      <td>30/Nov/2024:06:51:41 +0000</td>\n",
       "      <td>GET</td>\n",
       "      <td>/status</td>\n",
       "      <td>HTTP/1.1</td>\n",
       "      <td>200</td>\n",
       "      <td>1164</td>\n",
       "      <td>-</td>\n",
       "      <td>kong-ingress-controller/3.3.1</td>\n",
       "    </tr>\n",
       "    <tr>\n",
       "      <th>1</th>\n",
       "      <td>stderr</td>\n",
       "      <td>10.244.3.1</td>\n",
       "      <td>-</td>\n",
       "      <td>30/Nov/2024:06:51:42 +0000</td>\n",
       "      <td>GET</td>\n",
       "      <td>/status</td>\n",
       "      <td>HTTP/1.1</td>\n",
       "      <td>200</td>\n",
       "      <td>1165</td>\n",
       "      <td>-</td>\n",
       "      <td>kube-probe/1.27</td>\n",
       "    </tr>\n",
       "    <tr>\n",
       "      <th>2</th>\n",
       "      <td>stderr</td>\n",
       "      <td>10.244.3.1</td>\n",
       "      <td>-</td>\n",
       "      <td>30/Nov/2024:06:51:42 +0000</td>\n",
       "      <td>GET</td>\n",
       "      <td>/status/ready</td>\n",
       "      <td>HTTP/1.1</td>\n",
       "      <td>200</td>\n",
       "      <td>19</td>\n",
       "      <td>-</td>\n",
       "      <td>kube-probe/1.27</td>\n",
       "    </tr>\n",
       "    <tr>\n",
       "      <th>3</th>\n",
       "      <td>stdout</td>\n",
       "      <td>127.0.0.1</td>\n",
       "      <td>-</td>\n",
       "      <td>30/Nov/2024:06:51:44 +0000</td>\n",
       "      <td>GET</td>\n",
       "      <td>/status</td>\n",
       "      <td>HTTP/1.1</td>\n",
       "      <td>200</td>\n",
       "      <td>1164</td>\n",
       "      <td>-</td>\n",
       "      <td>kong-ingress-controller/3.3.1</td>\n",
       "    </tr>\n",
       "    <tr>\n",
       "      <th>4</th>\n",
       "      <td>stdout</td>\n",
       "      <td>127.0.0.1</td>\n",
       "      <td>-</td>\n",
       "      <td>30/Nov/2024:06:51:47 +0000</td>\n",
       "      <td>GET</td>\n",
       "      <td>/status</td>\n",
       "      <td>HTTP/1.1</td>\n",
       "      <td>200</td>\n",
       "      <td>1164</td>\n",
       "      <td>-</td>\n",
       "      <td>kong-ingress-controller/3.3.1</td>\n",
       "    </tr>\n",
       "  </tbody>\n",
       "</table>\n",
       "</div>"
      ],
      "text/plain": [
       "      std remote_address remote_user                    datetime method  \\\n",
       "0  stdout      127.0.0.1           -  30/Nov/2024:06:51:41 +0000    GET   \n",
       "1  stderr     10.244.3.1           -  30/Nov/2024:06:51:42 +0000    GET   \n",
       "2  stderr     10.244.3.1           -  30/Nov/2024:06:51:42 +0000    GET   \n",
       "3  stdout      127.0.0.1           -  30/Nov/2024:06:51:44 +0000    GET   \n",
       "4  stdout      127.0.0.1           -  30/Nov/2024:06:51:47 +0000    GET   \n",
       "\n",
       "            path    header status bytes_sent referer  \\\n",
       "0        /status  HTTP/1.1    200       1164       -   \n",
       "1        /status  HTTP/1.1    200       1165       -   \n",
       "2  /status/ready  HTTP/1.1    200         19       -   \n",
       "3        /status  HTTP/1.1    200       1164       -   \n",
       "4        /status  HTTP/1.1    200       1164       -   \n",
       "\n",
       "                      user_agent  \n",
       "0  kong-ingress-controller/3.3.1  \n",
       "1                kube-probe/1.27  \n",
       "2                kube-probe/1.27  \n",
       "3  kong-ingress-controller/3.3.1  \n",
       "4  kong-ingress-controller/3.3.1  "
      ]
     },
     "execution_count": 11,
     "metadata": {},
     "output_type": "execute_result"
    }
   ],
   "source": [
    "df.head()"
   ]
  },
  {
   "cell_type": "code",
   "execution_count": null,
   "metadata": {},
   "outputs": [],
   "source": [
    "df.to_csv('D:/code-python/project_practice/server_log/dataframe/server_log_convert_dataframe.csv')"
   ]
  }
 ],
 "metadata": {
  "kernelspec": {
   "display_name": "test-env",
   "language": "python",
   "name": "python3"
  },
  "language_info": {
   "codemirror_mode": {
    "name": "ipython",
    "version": 3
   },
   "file_extension": ".py",
   "mimetype": "text/x-python",
   "name": "python",
   "nbconvert_exporter": "python",
   "pygments_lexer": "ipython3",
   "version": "3.8.19"
  }
 },
 "nbformat": 4,
 "nbformat_minor": 2
}
