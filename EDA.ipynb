{
 "cells": [
  {
   "cell_type": "code",
   "execution_count": 2,
   "metadata": {},
   "outputs": [],
   "source": [
    "import pandas as pd\n",
    "import csv"
   ]
  },
  {
   "cell_type": "code",
   "execution_count": 4,
   "metadata": {},
   "outputs": [],
   "source": [
    "df = pd.read_csv(\"D:\\code-python\\project_practice\\server_log\\log_final\")"
   ]
  },
  {
   "cell_type": "code",
   "execution_count": 5,
   "metadata": {},
   "outputs": [],
   "source": [
    "from datetime import datetime"
   ]
  },
  {
   "cell_type": "code",
   "execution_count": 8,
   "metadata": {},
   "outputs": [
    {
     "name": "stdout",
     "output_type": "stream",
     "text": [
      "<class 'pandas.core.frame.DataFrame'>\n",
      "RangeIndex: 12960000 entries, 0 to 12959999\n",
      "Data columns (total 12 columns):\n",
      " #   Column         Dtype \n",
      "---  ------         ----- \n",
      " 0   Unnamed: 0     int64 \n",
      " 1   timestamp      object\n",
      " 2   ip             object\n",
      " 3   endpoint       object\n",
      " 4   method         object\n",
      " 5   response_code  int64 \n",
      " 6   request_id     object\n",
      " 7   module_1_cpu   int64 \n",
      " 8   module_2_cpu   int64 \n",
      " 9   module_3_cpu   int64 \n",
      " 10  module_4_cpu   int64 \n",
      " 11  cpu_total      int64 \n",
      "dtypes: int64(7), object(5)\n",
      "memory usage: 1.2+ GB\n"
     ]
    }
   ],
   "source": [
    "df.info()"
   ]
  },
  {
   "cell_type": "code",
   "execution_count": 10,
   "metadata": {},
   "outputs": [],
   "source": [
    "df['timestamp'] = df['timestamp'].apply(lambda x: datetime.strptime (x, \"%Y-%m-%d %H:%M:%S%z\")) "
   ]
  },
  {
   "cell_type": "code",
   "execution_count": 11,
   "metadata": {},
   "outputs": [
    {
     "name": "stdout",
     "output_type": "stream",
     "text": [
      "<class 'pandas.core.frame.DataFrame'>\n",
      "RangeIndex: 12960000 entries, 0 to 12959999\n",
      "Data columns (total 12 columns):\n",
      " #   Column         Dtype              \n",
      "---  ------         -----              \n",
      " 0   Unnamed: 0     int64              \n",
      " 1   timestamp      datetime64[ns, UTC]\n",
      " 2   ip             object             \n",
      " 3   endpoint       object             \n",
      " 4   method         object             \n",
      " 5   response_code  int64              \n",
      " 6   request_id     object             \n",
      " 7   module_1_cpu   int64              \n",
      " 8   module_2_cpu   int64              \n",
      " 9   module_3_cpu   int64              \n",
      " 10  module_4_cpu   int64              \n",
      " 11  cpu_total      int64              \n",
      "dtypes: datetime64[ns, UTC](1), int64(7), object(4)\n",
      "memory usage: 1.2+ GB\n"
     ]
    }
   ],
   "source": [
    "df.info()"
   ]
  },
  {
   "cell_type": "code",
   "execution_count": 12,
   "metadata": {},
   "outputs": [
    {
     "data": {
      "text/html": [
       "<div>\n",
       "<style scoped>\n",
       "    .dataframe tbody tr th:only-of-type {\n",
       "        vertical-align: middle;\n",
       "    }\n",
       "\n",
       "    .dataframe tbody tr th {\n",
       "        vertical-align: top;\n",
       "    }\n",
       "\n",
       "    .dataframe thead th {\n",
       "        text-align: right;\n",
       "    }\n",
       "</style>\n",
       "<table border=\"1\" class=\"dataframe\">\n",
       "  <thead>\n",
       "    <tr style=\"text-align: right;\">\n",
       "      <th></th>\n",
       "      <th>Unnamed: 0</th>\n",
       "      <th>timestamp</th>\n",
       "      <th>ip</th>\n",
       "      <th>endpoint</th>\n",
       "      <th>method</th>\n",
       "      <th>response_code</th>\n",
       "      <th>request_id</th>\n",
       "      <th>module_1_cpu</th>\n",
       "      <th>module_2_cpu</th>\n",
       "      <th>module_3_cpu</th>\n",
       "      <th>module_4_cpu</th>\n",
       "      <th>cpu_total</th>\n",
       "    </tr>\n",
       "  </thead>\n",
       "  <tbody>\n",
       "    <tr>\n",
       "      <th>0</th>\n",
       "      <td>0</td>\n",
       "      <td>2024-12-01 00:00:00+00:00</td>\n",
       "      <td>172.17.111.144</td>\n",
       "      <td>/api/users/push-token/create</td>\n",
       "      <td>GET</td>\n",
       "      <td>200</td>\n",
       "      <td>643ef6939375441d958ad5f75ad62831</td>\n",
       "      <td>54</td>\n",
       "      <td>38</td>\n",
       "      <td>32</td>\n",
       "      <td>43</td>\n",
       "      <td>84</td>\n",
       "    </tr>\n",
       "    <tr>\n",
       "      <th>1</th>\n",
       "      <td>1</td>\n",
       "      <td>2024-12-01 00:00:00+00:00</td>\n",
       "      <td>172.17.131.18</td>\n",
       "      <td>/api/pricing/payment/bill-phone</td>\n",
       "      <td>POST</td>\n",
       "      <td>200</td>\n",
       "      <td>e7f0f230f3c3420c8fb1ca8190266fc5</td>\n",
       "      <td>58</td>\n",
       "      <td>23</td>\n",
       "      <td>35</td>\n",
       "      <td>44</td>\n",
       "      <td>46</td>\n",
       "    </tr>\n",
       "    <tr>\n",
       "      <th>2</th>\n",
       "      <td>2</td>\n",
       "      <td>2024-12-01 00:00:00+00:00</td>\n",
       "      <td>172.17.28.45</td>\n",
       "      <td>/api/events</td>\n",
       "      <td>POST</td>\n",
       "      <td>200</td>\n",
       "      <td>d51105ddaef849cb8b61d11193e5068a</td>\n",
       "      <td>50</td>\n",
       "      <td>60</td>\n",
       "      <td>41</td>\n",
       "      <td>44</td>\n",
       "      <td>50</td>\n",
       "    </tr>\n",
       "    <tr>\n",
       "      <th>3</th>\n",
       "      <td>3</td>\n",
       "      <td>2024-12-01 00:00:00+00:00</td>\n",
       "      <td>172.17.227.36</td>\n",
       "      <td>/api/pricing/payment/bill-phone</td>\n",
       "      <td>GET</td>\n",
       "      <td>200</td>\n",
       "      <td>90e81edd04ed425dbfba1ed8e57de20d</td>\n",
       "      <td>49</td>\n",
       "      <td>35</td>\n",
       "      <td>31</td>\n",
       "      <td>55</td>\n",
       "      <td>53</td>\n",
       "    </tr>\n",
       "    <tr>\n",
       "      <th>4</th>\n",
       "      <td>4</td>\n",
       "      <td>2024-12-01 00:00:00+00:00</td>\n",
       "      <td>172.17.19.188</td>\n",
       "      <td>/api/pricing/payment/bill-phone</td>\n",
       "      <td>GET</td>\n",
       "      <td>200</td>\n",
       "      <td>9a1eb802cfd64cf48f52f43647bdbb68</td>\n",
       "      <td>35</td>\n",
       "      <td>44</td>\n",
       "      <td>14</td>\n",
       "      <td>49</td>\n",
       "      <td>71</td>\n",
       "    </tr>\n",
       "  </tbody>\n",
       "</table>\n",
       "</div>"
      ],
      "text/plain": [
       "   Unnamed: 0                 timestamp              ip  \\\n",
       "0           0 2024-12-01 00:00:00+00:00  172.17.111.144   \n",
       "1           1 2024-12-01 00:00:00+00:00   172.17.131.18   \n",
       "2           2 2024-12-01 00:00:00+00:00    172.17.28.45   \n",
       "3           3 2024-12-01 00:00:00+00:00   172.17.227.36   \n",
       "4           4 2024-12-01 00:00:00+00:00   172.17.19.188   \n",
       "\n",
       "                          endpoint method  response_code  \\\n",
       "0     /api/users/push-token/create    GET            200   \n",
       "1  /api/pricing/payment/bill-phone   POST            200   \n",
       "2                      /api/events   POST            200   \n",
       "3  /api/pricing/payment/bill-phone    GET            200   \n",
       "4  /api/pricing/payment/bill-phone    GET            200   \n",
       "\n",
       "                         request_id  module_1_cpu  module_2_cpu  module_3_cpu  \\\n",
       "0  643ef6939375441d958ad5f75ad62831            54            38            32   \n",
       "1  e7f0f230f3c3420c8fb1ca8190266fc5            58            23            35   \n",
       "2  d51105ddaef849cb8b61d11193e5068a            50            60            41   \n",
       "3  90e81edd04ed425dbfba1ed8e57de20d            49            35            31   \n",
       "4  9a1eb802cfd64cf48f52f43647bdbb68            35            44            14   \n",
       "\n",
       "   module_4_cpu  cpu_total  \n",
       "0            43         84  \n",
       "1            44         46  \n",
       "2            44         50  \n",
       "3            55         53  \n",
       "4            49         71  "
      ]
     },
     "execution_count": 12,
     "metadata": {},
     "output_type": "execute_result"
    }
   ],
   "source": [
    "df.head()"
   ]
  },
  {
   "cell_type": "code",
   "execution_count": 13,
   "metadata": {},
   "outputs": [
    {
     "name": "stdout",
     "output_type": "stream",
     "text": [
      "response_code\n",
      "200    12204175\n",
      "404      189456\n",
      "400      188954\n",
      "500      188912\n",
      "401      188503\n",
      "Name: count, dtype: int64\n"
     ]
    }
   ],
   "source": [
    "print (df['response_code'].value_counts())\n",
    "proportion_of_errors = round(((df['response_code'] == 401).sum() / len(df) * 100),2)"
   ]
  },
  {
   "cell_type": "code",
   "execution_count": 14,
   "metadata": {},
   "outputs": [
    {
     "name": "stdout",
     "output_type": "stream",
     "text": [
      "Sum of request = 12960000\n",
      "Sum of errors = 755825\n",
      "The proportional of errors is 1.45 %\n"
     ]
    }
   ],
   "source": [
    "print (\"Sum of request =\", df['response_code'].value_counts().sum())\n",
    "print ('Sum of errors =', (df['response_code'] !=200).sum())\n",
    "print ('The proportional of errors is', proportion_of_errors , '%')"
   ]
  },
  {
   "cell_type": "code",
   "execution_count": 15,
   "metadata": {},
   "outputs": [],
   "source": [
    "import datetime"
   ]
  },
  {
   "cell_type": "code",
   "execution_count": 16,
   "metadata": {},
   "outputs": [],
   "source": [
    "df['hour'] = df['timestamp'].dt.hour\n",
    "df['day'] = df['timestamp'].dt.day\n",
    "df['month'] = df['timestamp'].dt.month"
   ]
  },
  {
   "cell_type": "code",
   "execution_count": 17,
   "metadata": {},
   "outputs": [],
   "source": [
    "df_filter = df[df['response_code']!= 200]"
   ]
  },
  {
   "cell_type": "code",
   "execution_count": 18,
   "metadata": {},
   "outputs": [
    {
     "data": {
      "text/html": [
       "<div>\n",
       "<style scoped>\n",
       "    .dataframe tbody tr th:only-of-type {\n",
       "        vertical-align: middle;\n",
       "    }\n",
       "\n",
       "    .dataframe tbody tr th {\n",
       "        vertical-align: top;\n",
       "    }\n",
       "\n",
       "    .dataframe thead th {\n",
       "        text-align: right;\n",
       "    }\n",
       "</style>\n",
       "<table border=\"1\" class=\"dataframe\">\n",
       "  <thead>\n",
       "    <tr style=\"text-align: right;\">\n",
       "      <th></th>\n",
       "      <th>Unnamed: 0</th>\n",
       "      <th>timestamp</th>\n",
       "      <th>ip</th>\n",
       "      <th>endpoint</th>\n",
       "      <th>method</th>\n",
       "      <th>response_code</th>\n",
       "      <th>request_id</th>\n",
       "      <th>module_1_cpu</th>\n",
       "      <th>module_2_cpu</th>\n",
       "      <th>module_3_cpu</th>\n",
       "      <th>module_4_cpu</th>\n",
       "      <th>cpu_total</th>\n",
       "      <th>hour</th>\n",
       "      <th>day</th>\n",
       "      <th>month</th>\n",
       "    </tr>\n",
       "  </thead>\n",
       "  <tbody>\n",
       "    <tr>\n",
       "      <th>126001</th>\n",
       "      <td>126001</td>\n",
       "      <td>2024-12-01 07:00:00+00:00</td>\n",
       "      <td>172.17.116.67</td>\n",
       "      <td>/api/events</td>\n",
       "      <td>GET</td>\n",
       "      <td>500</td>\n",
       "      <td>d21de293f15241cf97b5121ead425b29</td>\n",
       "      <td>33</td>\n",
       "      <td>59</td>\n",
       "      <td>36</td>\n",
       "      <td>62</td>\n",
       "      <td>59</td>\n",
       "      <td>7</td>\n",
       "      <td>1</td>\n",
       "      <td>12</td>\n",
       "    </tr>\n",
       "    <tr>\n",
       "      <th>126005</th>\n",
       "      <td>126005</td>\n",
       "      <td>2024-12-01 07:00:01+00:00</td>\n",
       "      <td>172.17.208.63</td>\n",
       "      <td>/api/users/no-auth/tv</td>\n",
       "      <td>POST</td>\n",
       "      <td>404</td>\n",
       "      <td>2178e56989d04463a35f9e6ce8ad68d5</td>\n",
       "      <td>58</td>\n",
       "      <td>24</td>\n",
       "      <td>40</td>\n",
       "      <td>38</td>\n",
       "      <td>42</td>\n",
       "      <td>7</td>\n",
       "      <td>1</td>\n",
       "      <td>12</td>\n",
       "    </tr>\n",
       "    <tr>\n",
       "      <th>126009</th>\n",
       "      <td>126009</td>\n",
       "      <td>2024-12-01 07:00:01+00:00</td>\n",
       "      <td>172.17.221.107</td>\n",
       "      <td>/api/events</td>\n",
       "      <td>GET</td>\n",
       "      <td>500</td>\n",
       "      <td>8d79e9159eb2456a9e4d2a6252c9bf25</td>\n",
       "      <td>69</td>\n",
       "      <td>28</td>\n",
       "      <td>25</td>\n",
       "      <td>30</td>\n",
       "      <td>82</td>\n",
       "      <td>7</td>\n",
       "      <td>1</td>\n",
       "      <td>12</td>\n",
       "    </tr>\n",
       "    <tr>\n",
       "      <th>126014</th>\n",
       "      <td>126014</td>\n",
       "      <td>2024-12-01 07:00:02+00:00</td>\n",
       "      <td>172.17.39.62</td>\n",
       "      <td>/api/pricing/payment/bill-phone</td>\n",
       "      <td>GET</td>\n",
       "      <td>500</td>\n",
       "      <td>a9d2c75af5f949d5b897a4f6074f9a47</td>\n",
       "      <td>50</td>\n",
       "      <td>30</td>\n",
       "      <td>19</td>\n",
       "      <td>58</td>\n",
       "      <td>59</td>\n",
       "      <td>7</td>\n",
       "      <td>1</td>\n",
       "      <td>12</td>\n",
       "    </tr>\n",
       "    <tr>\n",
       "      <th>126022</th>\n",
       "      <td>126022</td>\n",
       "      <td>2024-12-01 07:00:04+00:00</td>\n",
       "      <td>172.17.191.110</td>\n",
       "      <td>/api/users/no-auth/tv</td>\n",
       "      <td>GET</td>\n",
       "      <td>400</td>\n",
       "      <td>436b2d6464cb4b8ba7d79ffe3abefd3b</td>\n",
       "      <td>50</td>\n",
       "      <td>45</td>\n",
       "      <td>47</td>\n",
       "      <td>60</td>\n",
       "      <td>61</td>\n",
       "      <td>7</td>\n",
       "      <td>1</td>\n",
       "      <td>12</td>\n",
       "    </tr>\n",
       "  </tbody>\n",
       "</table>\n",
       "</div>"
      ],
      "text/plain": [
       "        Unnamed: 0                 timestamp              ip  \\\n",
       "126001      126001 2024-12-01 07:00:00+00:00   172.17.116.67   \n",
       "126005      126005 2024-12-01 07:00:01+00:00   172.17.208.63   \n",
       "126009      126009 2024-12-01 07:00:01+00:00  172.17.221.107   \n",
       "126014      126014 2024-12-01 07:00:02+00:00    172.17.39.62   \n",
       "126022      126022 2024-12-01 07:00:04+00:00  172.17.191.110   \n",
       "\n",
       "                               endpoint method  response_code  \\\n",
       "126001                      /api/events    GET            500   \n",
       "126005            /api/users/no-auth/tv   POST            404   \n",
       "126009                      /api/events    GET            500   \n",
       "126014  /api/pricing/payment/bill-phone    GET            500   \n",
       "126022            /api/users/no-auth/tv    GET            400   \n",
       "\n",
       "                              request_id  module_1_cpu  module_2_cpu  \\\n",
       "126001  d21de293f15241cf97b5121ead425b29            33            59   \n",
       "126005  2178e56989d04463a35f9e6ce8ad68d5            58            24   \n",
       "126009  8d79e9159eb2456a9e4d2a6252c9bf25            69            28   \n",
       "126014  a9d2c75af5f949d5b897a4f6074f9a47            50            30   \n",
       "126022  436b2d6464cb4b8ba7d79ffe3abefd3b            50            45   \n",
       "\n",
       "        module_3_cpu  module_4_cpu  cpu_total  hour  day  month  \n",
       "126001            36            62         59     7    1     12  \n",
       "126005            40            38         42     7    1     12  \n",
       "126009            25            30         82     7    1     12  \n",
       "126014            19            58         59     7    1     12  \n",
       "126022            47            60         61     7    1     12  "
      ]
     },
     "execution_count": 18,
     "metadata": {},
     "output_type": "execute_result"
    }
   ],
   "source": [
    "df_filter.head()"
   ]
  },
  {
   "cell_type": "code",
   "execution_count": 19,
   "metadata": {},
   "outputs": [
    {
     "data": {
      "text/plain": [
       "hour\n",
       "7     108286\n",
       "16    108179\n",
       "8     108045\n",
       "9     108015\n",
       "15    107969\n",
       "10    107825\n",
       "17    107506\n",
       "Name: count, dtype: int64"
      ]
     },
     "execution_count": 19,
     "metadata": {},
     "output_type": "execute_result"
    }
   ],
   "source": [
    "df_filter['hour'].value_counts()"
   ]
  },
  {
   "cell_type": "code",
   "execution_count": 24,
   "metadata": {},
   "outputs": [
    {
     "data": {
      "text/plain": [
       "endpoint\n",
       "/api/users/push-token/create       2593628\n",
       "/api/logout                        2593511\n",
       "/api/users/no-auth/tv              2593181\n",
       "/api/pricing/payment/bill-phone    2590032\n",
       "/api/events                        2589648\n",
       "Name: count, dtype: int64"
      ]
     },
     "execution_count": 24,
     "metadata": {},
     "output_type": "execute_result"
    }
   ],
   "source": [
    "df['endpoint'].value_counts()"
   ]
  },
  {
   "cell_type": "code",
   "execution_count": 20,
   "metadata": {},
   "outputs": [],
   "source": [
    "import matplotlib.pyplot as plt\n",
    "import seaborn as sns"
   ]
  },
  {
   "cell_type": "code",
   "execution_count": 38,
   "metadata": {},
   "outputs": [
    {
     "name": "stderr",
     "output_type": "stream",
     "text": [
      "C:\\Users\\user\\AppData\\Local\\Temp\\ipykernel_6420\\3984375902.py:4: FutureWarning: \n",
      "\n",
      "Passing `palette` without assigning `hue` is deprecated and will be removed in v0.14.0. Assign the `x` variable to `hue` and set `legend=False` for the same effect.\n",
      "\n",
      "  sns.barplot(x=hourly_errors.index, y=hourly_errors.values, palette=\"viridis\")\n"
     ]
    },
    {
     "data": {
      "image/png": "[encoded data removed]",
      "text/plain": [
       "<Figure size 1000x600 with 1 Axes>"
      ]
     },
     "metadata": {},
     "output_type": "display_data"
    }
   ],
   "source": [
    "hourly_errors = df_filter['hour'].value_counts().sort_index()\n",
    "\n",
    "plt.figure(figsize=(10, 6))\n",
    "sns.barplot(x=hourly_errors.index, y=hourly_errors.values, palette=\"viridis\")\n",
    "plt.title(\"Phân bố lỗi theo giờ\")\n",
    "plt.xlabel(\"Giờ\")\n",
    "plt.ylabel(\"Số lượng lỗi\")\n",
    "plt.show()"
   ]
  },
  {
   "cell_type": "code",
   "execution_count": 28,
   "metadata": {},
   "outputs": [
    {
     "name": "stdout",
     "output_type": "stream",
     "text": [
      "day\n",
      "7     25485\n",
      "15    25469\n",
      "26    25386\n",
      "2     25345\n",
      "30    25331\n",
      "27    25321\n",
      "1     25297\n",
      "3     25278\n",
      "16    25267\n",
      "23    25246\n",
      "21    25242\n",
      "24    25236\n",
      "6     25230\n",
      "18    25221\n",
      "9     25219\n",
      "11    25185\n",
      "29    25167\n",
      "10    25153\n",
      "14    25151\n",
      "17    25133\n",
      "5     25127\n",
      "4     25127\n",
      "19    25072\n",
      "13    25064\n",
      "8     25058\n",
      "25    25046\n",
      "12    25029\n",
      "22    25013\n",
      "20    24990\n",
      "28    24937\n",
      "Name: count, dtype: int64\n"
     ]
    }
   ],
   "source": [
    "print (df_filter['day'].value_counts())"
   ]
  },
  {
   "cell_type": "code",
   "execution_count": 26,
   "metadata": {},
   "outputs": [
    {
     "name": "stderr",
     "output_type": "stream",
     "text": [
      "C:\\Users\\user\\AppData\\Local\\Temp\\ipykernel_6420\\435317948.py:3: FutureWarning: \n",
      "\n",
      "Passing `palette` without assigning `hue` is deprecated and will be removed in v0.14.0. Assign the `x` variable to `hue` and set `legend=False` for the same effect.\n",
      "\n",
      "  sns.barplot(x=day_errors.index, y=day_errors.values, palette=\"viridis\")\n"
     ]
    },
    {
     "data": {
      "image/png": "[encoded data removed]",
      "text/plain": [
       "<Figure size 1000x600 with 1 Axes>"
      ]
     },
     "metadata": {},
     "output_type": "display_data"
    }
   ],
   "source": [
    "day_errors = df_filter['day'].value_counts().sort_index()\n",
    "plt.figure(figsize=(10, 6))\n",
    "sns.barplot(x=day_errors.index, y=day_errors.values, palette=\"viridis\")\n",
    "plt.title(\"Phân bố lỗi theo ngày\")\n",
    "plt.xlabel(\"Ngày\")\n",
    "plt.ylabel(\"Số lượng lỗi\")\n",
    "plt.show()"
   ]
  },
  {
   "cell_type": "code",
   "execution_count": 33,
   "metadata": {},
   "outputs": [
    {
     "name": "stderr",
     "output_type": "stream",
     "text": [
      "C:\\Users\\user\\AppData\\Local\\Temp\\ipykernel_6420\\4097034250.py:2: FutureWarning: \n",
      "\n",
      "Passing `palette` without assigning `hue` is deprecated and will be removed in v0.14.0. Assign the `x` variable to `hue` and set `legend=False` for the same effect.\n",
      "\n",
      "  sns.boxplot(data=df_filter, x='response_code', y='module_4_cpu', palette='coolwarm')\n"
     ]
    },
    {
     "data": {
      "image/png": "[encoded data removed]",
      "text/plain": [
       "<Figure size 1000x600 with 1 Axes>"
      ]
     },
     "metadata": {},
     "output_type": "display_data"
    }
   ],
   "source": [
    "plt.figure(figsize=(10, 6))\n",
    "sns.boxplot(data=df_filter, x='response_code', y='module_4_cpu', palette='coolwarm')\n",
    "plt.title('Tương quan giữa mã lỗi và CPU (Module 1)')\n",
    "plt.xlabel('Mã lỗi (response_code)')\n",
    "plt.ylabel('Sử dụng CPU (%)')\n",
    "plt.show()"
   ]
  },
  {
   "cell_type": "code",
   "execution_count": 49,
   "metadata": {},
   "outputs": [
    {
     "name": "stdout",
     "output_type": "stream",
     "text": [
      "<class 'pandas.core.frame.DataFrame'>\n",
      "Index: 7 entries, 7 to 17\n",
      "Data columns (total 1 columns):\n",
      " #   Column  Non-Null Count  Dtype\n",
      "---  ------  --------------  -----\n",
      " 0   count   7 non-null      int64\n",
      "dtypes: int64(1)\n",
      "memory usage: 84.0 bytes\n"
     ]
    }
   ],
   "source": [
    "hourly_errors.info()\n",
    "hourly_errors = pd.DataFrame(hourly_errors)"
   ]
  },
  {
   "cell_type": "code",
   "execution_count": 50,
   "metadata": {},
   "outputs": [
    {
     "name": "stdout",
     "output_type": "stream",
     "text": [
      "<class 'pandas.core.frame.DataFrame'>\n",
      "Index: 7 entries, 7 to 17\n",
      "Data columns (total 1 columns):\n",
      " #   Column  Non-Null Count  Dtype\n",
      "---  ------  --------------  -----\n",
      " 0   count   7 non-null      int64\n",
      "dtypes: int64(1)\n",
      "memory usage: 84.0 bytes\n"
     ]
    }
   ],
   "source": [
    "hourly_errors.info()"
   ]
  },
  {
   "cell_type": "code",
   "execution_count": 51,
   "metadata": {},
   "outputs": [
    {
     "name": "stdout",
     "output_type": "stream",
     "text": [
      "<class 'pandas.core.frame.DataFrame'>\n",
      "RangeIndex: 7 entries, 0 to 6\n",
      "Data columns (total 2 columns):\n",
      " #   Column     Non-Null Count  Dtype  \n",
      "---  ------     --------------  -----  \n",
      " 0   hour       7 non-null      int32  \n",
      " 1   cpu_total  7 non-null      float64\n",
      "dtypes: float64(1), int32(1)\n",
      "memory usage: 212.0 bytes\n"
     ]
    }
   ],
   "source": [
    "cpu_usage = df_filter.groupby('hour')['cpu_total'].mean().reset_index()\n",
    "cpu_usage.info()"
   ]
  },
  {
   "cell_type": "code",
   "execution_count": 54,
   "metadata": {},
   "outputs": [],
   "source": [
    "merged_data = hourly_errors.merge(cpu_usage, on='hour')\n"
   ]
  },
  {
   "cell_type": "code",
   "execution_count": 56,
   "metadata": {},
   "outputs": [
    {
     "data": {
      "text/html": [
       "<div>\n",
       "<style scoped>\n",
       "    .dataframe tbody tr th:only-of-type {\n",
       "        vertical-align: middle;\n",
       "    }\n",
       "\n",
       "    .dataframe tbody tr th {\n",
       "        vertical-align: top;\n",
       "    }\n",
       "\n",
       "    .dataframe thead th {\n",
       "        text-align: right;\n",
       "    }\n",
       "</style>\n",
       "<table border=\"1\" class=\"dataframe\">\n",
       "  <thead>\n",
       "    <tr style=\"text-align: right;\">\n",
       "      <th></th>\n",
       "      <th>hour</th>\n",
       "      <th>count</th>\n",
       "      <th>cpu_total</th>\n",
       "    </tr>\n",
       "  </thead>\n",
       "  <tbody>\n",
       "    <tr>\n",
       "      <th>0</th>\n",
       "      <td>7</td>\n",
       "      <td>108286</td>\n",
       "      <td>65.043034</td>\n",
       "    </tr>\n",
       "    <tr>\n",
       "      <th>1</th>\n",
       "      <td>8</td>\n",
       "      <td>108045</td>\n",
       "      <td>65.022333</td>\n",
       "    </tr>\n",
       "    <tr>\n",
       "      <th>2</th>\n",
       "      <td>9</td>\n",
       "      <td>108015</td>\n",
       "      <td>65.053261</td>\n",
       "    </tr>\n",
       "    <tr>\n",
       "      <th>3</th>\n",
       "      <td>10</td>\n",
       "      <td>107825</td>\n",
       "      <td>65.025115</td>\n",
       "    </tr>\n",
       "    <tr>\n",
       "      <th>4</th>\n",
       "      <td>15</td>\n",
       "      <td>107969</td>\n",
       "      <td>65.088544</td>\n",
       "    </tr>\n",
       "    <tr>\n",
       "      <th>5</th>\n",
       "      <td>16</td>\n",
       "      <td>108179</td>\n",
       "      <td>64.978711</td>\n",
       "    </tr>\n",
       "    <tr>\n",
       "      <th>6</th>\n",
       "      <td>17</td>\n",
       "      <td>107506</td>\n",
       "      <td>65.006409</td>\n",
       "    </tr>\n",
       "  </tbody>\n",
       "</table>\n",
       "</div>"
      ],
      "text/plain": [
       "   hour   count  cpu_total\n",
       "0     7  108286  65.043034\n",
       "1     8  108045  65.022333\n",
       "2     9  108015  65.053261\n",
       "3    10  107825  65.025115\n",
       "4    15  107969  65.088544\n",
       "5    16  108179  64.978711\n",
       "6    17  107506  65.006409"
      ]
     },
     "execution_count": 56,
     "metadata": {},
     "output_type": "execute_result"
    }
   ],
   "source": [
    "merged_data"
   ]
  },
  {
   "cell_type": "code",
   "execution_count": 57,
   "metadata": {},
   "outputs": [
    {
     "data": {
      "image/png": "[encoded data removed]",
      "text/plain": [
       "<Figure size 1000x600 with 1 Axes>"
      ]
     },
     "metadata": {},
     "output_type": "display_data"
    }
   ],
   "source": [
    "merged_data = hourly_errors.merge(cpu_usage, on='hour')\n",
    "# Vẽ scatterplot\n",
    "plt.figure(figsize=(10, 6))\n",
    "sns.scatterplot(data=merged_data, x='cpu_total', y='count', hue='hour', palette='viridis')\n",
    "plt.title('Tương quan giữa CPU tổng và số lượng lỗi theo giờ')\n",
    "plt.xlabel('CPU tổng (%)')\n",
    "plt.ylabel('Số lượng lỗi')\n",
    "plt.show()"
   ]
  }
 ],
 "metadata": {
  "kernelspec": {
   "display_name": "test-env",
   "language": "python",
   "name": "python3"
  },
  "language_info": {
   "codemirror_mode": {
    "name": "ipython",
    "version": 3
   },
   "file_extension": ".py",
   "mimetype": "text/x-python",
   "name": "python",
   "nbconvert_exporter": "python",
   "pygments_lexer": "ipython3",
   "version": "3.8.19"
  }
 },
 "nbformat": 4,
 "nbformat_minor": 2
}
