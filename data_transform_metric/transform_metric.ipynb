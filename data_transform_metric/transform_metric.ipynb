{
 "cells": [
  {
   "cell_type": "code",
   "execution_count": 18,
   "metadata": {},
   "outputs": [],
   "source": [
    "import pandas as pd\n",
    "import re\n",
    "import os"
   ]
  },
  {
   "cell_type": "markdown",
   "metadata": {},
   "source": [
    "metric1"
   ]
  },
  {
   "cell_type": "code",
   "execution_count": 19,
   "metadata": {},
   "outputs": [],
   "source": [
    "folder_path1 = 'D:/code-python/project_practice/server_log/metricbeat/metricbeat/logs/2024-12-14T00_00_00.000Z_2024-12-15T00_00_00.000Z'"
   ]
  },
  {
   "cell_type": "code",
   "execution_count": 20,
   "metadata": {},
   "outputs": [],
   "source": [
    "timestamps_pattern = r\"\\[(.*?)\\]\"\n",
    "cpu_pattern = r\"CPU: Total: ([\\d.]+)%, User: ([\\d.]+)%, System: ([\\d.]+)%, IOwait: ([\\d.]+)%\"\n",
    "memory_pattern = r\"MEMORY: Total: ([\\d.]+ GB), Used: ([\\d.]+)%, Free: ([\\d.]+ GB), Cached: ([\\d.]+ GB)\"\n",
    "network_pattern = r\"NETWORK \\((.*?)\\): IN: ([\\d.]+ MB), OUT: ([\\d.]+ MB)\"\n",
    "load_pattern = r'LOAD: 1min: ([\\d\\.]+), 5min: ([\\d\\.]+), 15min: ([\\d\\.]+), Cores: (\\d+)'"
   ]
  },
  {
   "cell_type": "code",
   "execution_count": 21,
   "metadata": {},
   "outputs": [],
   "source": [
    "cpu_data, memory_data, network_data, load_data = [], [], [], []\n"
   ]
  },
  {
   "cell_type": "code",
   "execution_count": 22,
   "metadata": {},
   "outputs": [],
   "source": [
    "for file_name in os.listdir(folder_path1):\n",
    "    if file_name.endswith(\".000Z\") or file_name.endswith(\".log\"):\n",
    "        file_path = os.path.join(folder_path1, file_name)\n",
    "        with open (file_path, 'r') as file:\n",
    "            lines = file.readlines()\n",
    "            for line in lines:\n",
    "                timestamps = re.search(timestamps_pattern, line).group(1)\n",
    "                if \"CPU\" in line:\n",
    "                    cpu_match = re.search(cpu_pattern, line)\n",
    "                    if cpu_match:\n",
    "                        cpu_data.append({\n",
    "                            \"timestamp\": timestamps,\n",
    "                            \"file_name\" : file_name,\n",
    "                            \"total_cpu\" : float(cpu_match.group(1)),\n",
    "                            \"user_cpu\": float(cpu_match.group(2)),\n",
    "                            \"system_cpu\": float(cpu_match.group(3)),\n",
    "                            \"iowait_cpu\": float(cpu_match.group(4))\n",
    "                        })\n",
    "                elif \"MEMORY\" in line:\n",
    "                    memory_match = re.search(memory_pattern, line)\n",
    "                    if memory_match:\n",
    "                        memory_data.append({\n",
    "                            \"timestamp\": timestamps,\n",
    "                            \"file_name\": file_name,\n",
    "                            \"total_memory\": memory_match.group(1),\n",
    "                            \"used_memory\": float(memory_match.group(2)),\n",
    "                            \"free_memory\": memory_match.group(3),\n",
    "                            \"catched_memory\": memory_match.group(4)\n",
    "                        })\n",
    "                elif \"NETWORK\" in line:\n",
    "                    network_match = re.search(network_pattern,line)\n",
    "                    if network_match:\n",
    "                        network_data.append({\n",
    "                            \"timestamp\": timestamps,\n",
    "                            \"file_name\": file_name,\n",
    "                            \"interface\": network_match.group(1),\n",
    "                            \"in_traffic\": float(network_match.group(2).replace(\" MB\", \"\")),\n",
    "                            \"out_traffic\": float(network_match.group(3).replace(\" MB\", \"\"))\n",
    "                        })\n",
    "                elif \"LOAD\" in line:\n",
    "                    network_match = re.search(load_pattern,line)\n",
    "                    if network_match:\n",
    "                        load_data.append({\n",
    "                            \"timestamp\": timestamps,\n",
    "                            \"file_name\": file_name,\n",
    "                            \"1min\": float(network_match.group(1)),\n",
    "                            \"5min\": float(network_match.group(2)),\n",
    "                            \"15min\": float(network_match.group(3)),\n",
    "                            \"Cores\": int(network_match.group(4))\n",
    "                        })\n",
    "cpu_df1 = pd.DataFrame(cpu_data)\n",
    "memory_df1 = pd.DataFrame(memory_data)\n",
    "network_df1 = pd.DataFrame(network_data)\n",
    "load_df1 = pd.DataFrame(load_data)     "
   ]
  },
  {
   "cell_type": "markdown",
   "metadata": {},
   "source": [
    "metric2"
   ]
  },
  {
   "cell_type": "code",
   "execution_count": 23,
   "metadata": {},
   "outputs": [],
   "source": [
    "folder_path2 = \"D:/code-python/project_practice/server_log/metricbeat/metricbeat/logs/2024-12-15T00_00_00.000Z_2024-12-16T00_00_00.000Z\""
   ]
  },
  {
   "cell_type": "code",
   "execution_count": 24,
   "metadata": {},
   "outputs": [],
   "source": [
    "for file_name in os.listdir(folder_path2):\n",
    "    if file_name.endswith(\".000Z\") or file_name.endswith(\".log\"):\n",
    "        file_path = os.path.join(folder_path2, file_name)\n",
    "        with open (file_path, 'r') as file:\n",
    "            lines = file.readlines()\n",
    "            for line in lines:\n",
    "                timestamps = re.search(timestamps_pattern, line).group(1)\n",
    "                if \"CPU\" in line:\n",
    "                    cpu_match = re.search(cpu_pattern, line)\n",
    "                    if cpu_match:\n",
    "                        cpu_data.append({\n",
    "                            \"timestamp\": timestamps,\n",
    "                            \"file_name\" : file_name,\n",
    "                            \"total_cpu\" : float(cpu_match.group(1)),\n",
    "                            \"user_cpu\": float(cpu_match.group(2)),\n",
    "                            \"system_cpu\": float(cpu_match.group(3)),\n",
    "                            \"iowait_cpu\": float(cpu_match.group(4))\n",
    "                        })\n",
    "                elif \"MEMORY\" in line:\n",
    "                    memory_match = re.search(memory_pattern, line)\n",
    "                    if memory_match:\n",
    "                        memory_data.append({\n",
    "                            \"timestamp\": timestamps,\n",
    "                            \"file_name\": file_name,\n",
    "                            \"total_memory\": memory_match.group(1),\n",
    "                            \"used_memory\": float(memory_match.group(2)),\n",
    "                            \"free_memory\": memory_match.group(3),\n",
    "                            \"catched_memory\": memory_match.group(4)\n",
    "                        })\n",
    "                elif \"NETWORK\" in line:\n",
    "                    network_match = re.search(network_pattern,line)\n",
    "                    if network_match:\n",
    "                        network_data.append({\n",
    "                            \"timestamp\": timestamps,\n",
    "                            \"file_name\": file_name,\n",
    "                            \"interface\": network_match.group(1),\n",
    "                            \"in_traffic\": float(network_match.group(2).replace(\" MB\", \"\")),\n",
    "                            \"out_traffic\": float(network_match.group(3).replace(\" MB\", \"\"))\n",
    "                        })\n",
    "                elif \"LOAD\" in line:\n",
    "                    network_match = re.search(load_pattern,line)\n",
    "                    if network_match:\n",
    "                        load_data.append({\n",
    "                            \"timestamp\": timestamps,\n",
    "                            \"file_name\": file_name,\n",
    "                            \"1min\": float(network_match.group(1)),\n",
    "                            \"5min\": float(network_match.group(2)),\n",
    "                            \"15min\": float(network_match.group(3)),\n",
    "                            \"Cores\": int(network_match.group(4))\n",
    "                        })\n",
    "cpu_df2 = pd.DataFrame(cpu_data)\n",
    "memory_df2 = pd.DataFrame(memory_data)\n",
    "network_df2 = pd.DataFrame(network_data)\n",
    "load_df2 = pd.DataFrame(load_data)\n",
    "                "
   ]
  },
  {
   "cell_type": "markdown",
   "metadata": {},
   "source": [
    "metric3"
   ]
  },
  {
   "cell_type": "code",
   "execution_count": 25,
   "metadata": {},
   "outputs": [],
   "source": [
    "folder_path3 = \"D:/code-python/project_practice/server_log/metricbeat/metricbeat/logs/2024-12-16T00_00_00.000Z_2024-12-17T00_00_00.000Z\""
   ]
  },
  {
   "cell_type": "code",
   "execution_count": 26,
   "metadata": {},
   "outputs": [],
   "source": [
    "for file_name in os.listdir(folder_path3):\n",
    "    if file_name.endswith(\".000Z\") or file_name.endswith(\".log\"):\n",
    "        file_path = os.path.join(folder_path3, file_name)\n",
    "        with open (file_path, 'r') as file:\n",
    "            lines = file.readlines()\n",
    "            for line in lines:\n",
    "                timestamps = re.search(timestamps_pattern, line).group(1)\n",
    "                if \"CPU\" in line:\n",
    "                    cpu_match = re.search(cpu_pattern, line)\n",
    "                    if cpu_match:\n",
    "                        cpu_data.append({\n",
    "                            \"timestamp\": timestamps,\n",
    "                            \"file_name\" : file_name,\n",
    "                            \"total_cpu\" : float(cpu_match.group(1)),\n",
    "                            \"user_cpu\": float(cpu_match.group(2)),\n",
    "                            \"system_cpu\": float(cpu_match.group(3)),\n",
    "                            \"iowait_cpu\": float(cpu_match.group(4))\n",
    "                        })\n",
    "                elif \"MEMORY\" in line:\n",
    "                    memory_match = re.search(memory_pattern, line)\n",
    "                    if memory_match:\n",
    "                        memory_data.append({\n",
    "                            \"timestamp\": timestamps,\n",
    "                            \"file_name\": file_name,\n",
    "                            \"total_memory\": memory_match.group(1),\n",
    "                            \"used_memory\": float(memory_match.group(2)),\n",
    "                            \"free_memory\": memory_match.group(3),\n",
    "                            \"catched_memory\": memory_match.group(4)\n",
    "                        })\n",
    "                elif \"NETWORK\" in line:\n",
    "                    network_match = re.search(network_pattern,line)\n",
    "                    if network_match:\n",
    "                        network_data.append({\n",
    "                            \"timestamp\": timestamps,\n",
    "                            \"file_name\": file_name,\n",
    "                            \"interface\": network_match.group(1),\n",
    "                            \"in_traffic\": float(network_match.group(2).replace(\" MB\", \"\")),\n",
    "                            \"out_traffic\": float(network_match.group(3).replace(\" MB\", \"\"))\n",
    "                        })\n",
    "                elif \"LOAD\" in line:\n",
    "                    network_match = re.search(load_pattern,line)\n",
    "                    if network_match:\n",
    "                        load_data.append({\n",
    "                            \"timestamp\": timestamps,\n",
    "                            \"file_name\": file_name,\n",
    "                            \"1min\": float(network_match.group(1)),\n",
    "                            \"5min\": float(network_match.group(2)),\n",
    "                            \"15min\": float(network_match.group(3)),\n",
    "                            \"Cores\": int(network_match.group(4))\n",
    "                        })\n",
    "cpu_df3 = pd.DataFrame(cpu_data)\n",
    "memory_df3= pd.DataFrame(memory_data)\n",
    "network_df3 = pd.DataFrame(network_data)\n",
    "load_df3 = pd.DataFrame(load_data)\n",
    "                "
   ]
  },
  {
   "cell_type": "code",
   "execution_count": 27,
   "metadata": {},
   "outputs": [],
   "source": [
    "network_df_final = network_df3"
   ]
  },
  {
   "cell_type": "code",
   "execution_count": 33,
   "metadata": {},
   "outputs": [],
   "source": [
    "network_df_final.to_csv(\"D:/code-python/project_practice/server_log/data_transform_metric/network.csv\")"
   ]
  },
  {
   "cell_type": "code",
   "execution_count": 28,
   "metadata": {},
   "outputs": [],
   "source": [
    "cpu_df_final = cpu_df3"
   ]
  },
  {
   "cell_type": "code",
   "execution_count": 34,
   "metadata": {},
   "outputs": [],
   "source": [
    "cpu_df_final.to_csv(\"D:/code-python/project_practice/server_log/data_transform_metric/cpu.csv\")"
   ]
  },
  {
   "cell_type": "code",
   "execution_count": 29,
   "metadata": {},
   "outputs": [],
   "source": [
    "load_df_final = load_df3"
   ]
  },
  {
   "cell_type": "code",
   "execution_count": 35,
   "metadata": {},
   "outputs": [],
   "source": [
    "load_df_final.to_csv(\"D:/code-python/project_practice/server_log/data_transform_metric/load.csv\")"
   ]
  },
  {
   "cell_type": "code",
   "execution_count": 30,
   "metadata": {},
   "outputs": [],
   "source": [
    "memory_df_final = memory_df3"
   ]
  },
  {
   "cell_type": "code",
   "execution_count": 36,
   "metadata": {},
   "outputs": [],
   "source": [
    "memory_df_final.to_csv(\"D:/code-python/project_practice/server_log/data_transform_metric/memory.csv\")"
   ]
  },
  {
   "cell_type": "code",
   "execution_count": 31,
   "metadata": {},
   "outputs": [],
   "source": [
    "#load_memory_cpu_df = pd.merge(pd.merge(cpu_df_final, memory_df_final, on=[\"timestamp\", \"file_name\"], how=\"outer\"),\n",
    "                               #load_df_final, on=[\"timestamp\", \"file_name\"], how=\"outer\")\n"
   ]
  }
 ],
 "metadata": {
  "kernelspec": {
   "display_name": "test-env",
   "language": "python",
   "name": "python3"
  },
  "language_info": {
   "codemirror_mode": {
    "name": "ipython",
    "version": 3
   },
   "file_extension": ".py",
   "mimetype": "text/x-python",
   "name": "python",
   "nbconvert_exporter": "python",
   "pygments_lexer": "ipython3",
   "version": "3.8.19"
  }
 },
 "nbformat": 4,
 "nbformat_minor": 2
}
